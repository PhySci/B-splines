{
 "cells": [
  {
   "cell_type": "code",
   "execution_count": 1,
   "metadata": {
    "collapsed": true
   },
   "outputs": [],
   "source": [
    "import numpy as np"
   ]
  },
  {
   "cell_type": "code",
   "execution_count": 2,
   "metadata": {
    "collapsed": true
   },
   "outputs": [],
   "source": [
    "x = np.linspace(0,10)"
   ]
  },
  {
   "cell_type": "code",
   "execution_count": 6,
   "metadata": {
    "collapsed": false
   },
   "outputs": [],
   "source": [
    "border = range(0,11)"
   ]
  },
  {
   "cell_type": "code",
   "execution_count": 10,
   "metadata": {
    "collapsed": false
   },
   "outputs": [
    {
     "data": {
      "text/plain": [
       "array([  0.        ,   0.20408163,   0.40816327,   0.6122449 ,\n",
       "         0.81632653,   1.02040816,   1.2244898 ,   1.42857143,\n",
       "         1.63265306,   1.83673469,   2.04081633,   2.24489796,\n",
       "         2.44897959,   2.65306122,   2.85714286,   3.06122449,\n",
       "         3.26530612,   3.46938776,   3.67346939,   3.87755102,\n",
       "         4.08163265,   4.28571429,   4.48979592,   4.69387755,\n",
       "         4.89795918,   5.10204082,   5.30612245,   5.51020408,\n",
       "         5.71428571,   5.91836735,   6.12244898,   6.32653061,\n",
       "         6.53061224,   6.73469388,   6.93877551,   7.14285714,\n",
       "         7.34693878,   7.55102041,   7.75510204,   7.95918367,\n",
       "         8.16326531,   8.36734694,   8.57142857,   8.7755102 ,\n",
       "         8.97959184,   9.18367347,   9.3877551 ,   9.59183673,\n",
       "         9.79591837,  10.        ])"
      ]
     },
     "execution_count": 10,
     "metadata": {},
     "output_type": "execute_result"
    }
   ],
   "source": [
    "x"
   ]
  },
  {
   "cell_type": "code",
   "execution_count": 9,
   "metadata": {
    "collapsed": false
   },
   "outputs": [
    {
     "data": {
      "text/plain": [
       "(array([5, 5, 5, 5, 5, 5, 5, 5, 5, 5], dtype=int64),\n",
       " array([ 0,  1,  2,  3,  4,  5,  6,  7,  8,  9, 10]))"
      ]
     },
     "execution_count": 9,
     "metadata": {},
     "output_type": "execute_result"
    }
   ],
   "source": [
    "np.histogram(x,border)"
   ]
  },
  {
   "cell_type": "code",
   "execution_count": 15,
   "metadata": {
    "collapsed": false
   },
   "outputs": [
    {
     "data": {
      "text/plain": [
       "array([1, 1, 2, 2, 3, 3], dtype=int64)"
      ]
     },
     "execution_count": 15,
     "metadata": {},
     "output_type": "execute_result"
    }
   ],
   "source": [
    "np.digitize([0.5,1,1.5,2,2.5,3],border,right = True)"
   ]
  },
  {
   "cell_type": "code",
   "execution_count": 16,
   "metadata": {
    "collapsed": false
   },
   "outputs": [
    {
     "data": {
      "text/plain": [
       "array([1, 2, 2, 3, 3, 4], dtype=int64)"
      ]
     },
     "execution_count": 16,
     "metadata": {},
     "output_type": "execute_result"
    }
   ],
   "source": [
    "np.digitize([0.5,1,1.5,2,2.5,3],border)"
   ]
  },
  {
   "cell_type": "code",
   "execution_count": 36,
   "metadata": {
    "collapsed": false
   },
   "outputs": [],
   "source": [
    "xArr = np.linspace(0,5)"
   ]
  },
  {
   "cell_type": "code",
   "execution_count": 39,
   "metadata": {
    "collapsed": false
   },
   "outputs": [
    {
     "name": "stdout",
     "output_type": "stream",
     "text": [
      "0.0 0\n",
      "0.102040816327 1\n",
      "0.204081632653 2\n",
      "0.30612244898 3\n",
      "0.408163265306 4\n",
      "0.510204081633 5\n",
      "0.612244897959 6\n",
      "0.714285714286 7\n",
      "0.816326530612 8\n",
      "0.918367346939 9\n",
      "1.02040816327 10\n",
      "1.12244897959 11\n",
      "1.22448979592 12\n",
      "1.32653061224 13\n",
      "1.42857142857 14\n",
      "1.5306122449 15\n",
      "1.63265306122 16\n",
      "1.73469387755 17\n",
      "1.83673469388 18\n",
      "1.9387755102 19\n",
      "2.04081632653 20\n",
      "2.14285714286 21\n",
      "2.24489795918 22\n",
      "2.34693877551 23\n",
      "2.44897959184 24\n",
      "2.55102040816 25\n",
      "2.65306122449 26\n",
      "2.75510204082 27\n",
      "2.85714285714 28\n",
      "2.95918367347 29\n",
      "3.0612244898 30\n",
      "3.16326530612 31\n",
      "3.26530612245 32\n",
      "3.36734693878 33\n",
      "3.4693877551 34\n",
      "3.57142857143 35\n",
      "3.67346938776 36\n",
      "3.77551020408 37\n",
      "3.87755102041 38\n",
      "3.97959183673 39\n",
      "4.08163265306 40\n",
      "4.18367346939 41\n",
      "4.28571428571 42\n",
      "4.38775510204 43\n",
      "4.48979591837 44\n",
      "4.59183673469 45\n",
      "4.69387755102 46\n",
      "4.79591836735 47\n",
      "4.89795918367 48\n",
      "5.0 49\n"
     ]
    }
   ],
   "source": [
    "#it = np.nditer(xArr, flags=['f_index'])\n",
    "\n",
    "it = np.nditer(xArr, flags=['f_index'])\n",
    "while not it.finished:\n",
    "    print it[0], it.index\n",
    "    it.iternext()    "
   ]
  },
  {
   "cell_type": "code",
   "execution_count": null,
   "metadata": {
    "collapsed": true
   },
   "outputs": [],
   "source": []
  }
 ],
 "metadata": {
  "kernelspec": {
   "display_name": "Python 2",
   "language": "python",
   "name": "python2"
  },
  "language_info": {
   "codemirror_mode": {
    "name": "ipython",
    "version": 2
   },
   "file_extension": ".py",
   "mimetype": "text/x-python",
   "name": "python",
   "nbconvert_exporter": "python",
   "pygments_lexer": "ipython2",
   "version": "2.7.13"
  }
 },
 "nbformat": 4,
 "nbformat_minor": 2
}
